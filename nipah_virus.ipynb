{
 "cells": [
  {
   "cell_type": "markdown",
   "id": "4544e76e-b154-40ce-871c-0f45103033f7",
   "metadata": {},
   "source": [
    "# Importing libiraries"
   ]
  },
  {
   "cell_type": "code",
   "execution_count": 1,
   "id": "b6d773c3-b5ad-4ad4-9b95-a404947fafa5",
   "metadata": {},
   "outputs": [],
   "source": [
    "import pandas as pd\n",
    "import numpy as np\n",
    "import matplotlib.pyplot as plt\n",
    "import seaborn as sns\n",
    "from sklearn.model_selection import train_test_split, cross_val_score\n",
    "from sklearn.preprocessing import StandardScaler, LabelEncoder\n",
    "from sklearn.metrics import accuracy_score, confusion_matrix, classification_report\n",
    "from sklearn.ensemble import RandomForestClassifier\n",
    "from sklearn.linear_model import LogisticRegression\n",
    "from sklearn.svm import SVC\n",
    "from sklearn.neighbors import KNeighborsClassifier\n",
    "from sklearn.metrics import roc_curve, roc_auc_score\n",
    "import warnings\n",
    "from sklearn.multiclass import OneVsRestClassifier\n",
    "from sklearn.metrics import auc\n",
    "\n",
    "warnings.filterwarnings('ignore')"
   ]
  },
  {
   "cell_type": "markdown",
   "id": "251f56ce-3554-4dcc-a0b4-2a2510e6eefa",
   "metadata": {},
   "source": [
    "# Load the Dataset"
   ]
  },
  {
   "cell_type": "code",
   "execution_count": 2,
   "id": "75c2ab94-f26e-4a55-a277-371c697f8c29",
   "metadata": {},
   "outputs": [],
   "source": [
    "file_path = 'nipah_virus.csv'\n",
    "df = pd.read_csv(file_path)"
   ]
  },
  {
   "cell_type": "markdown",
   "id": "48fd2e76-2230-4e23-b00a-b32bb1195597",
   "metadata": {},
   "source": [
    "# Display basic information about the dataset"
   ]
  },
  {
   "cell_type": "code",
   "execution_count": 3,
   "id": "949074de-9949-408a-8306-33fa306b7b60",
   "metadata": {},
   "outputs": [
    {
     "data": {
      "text/html": [
       "<div>\n",
       "<style scoped>\n",
       "    .dataframe tbody tr th:only-of-type {\n",
       "        vertical-align: middle;\n",
       "    }\n",
       "\n",
       "    .dataframe tbody tr th {\n",
       "        vertical-align: top;\n",
       "    }\n",
       "\n",
       "    .dataframe thead th {\n",
       "        text-align: right;\n",
       "    }\n",
       "</style>\n",
       "<table border=\"1\" class=\"dataframe\">\n",
       "  <thead>\n",
       "    <tr style=\"text-align: right;\">\n",
       "      <th></th>\n",
       "      <th>ID</th>\n",
       "      <th>Age</th>\n",
       "      <th>Gender</th>\n",
       "      <th>Income</th>\n",
       "      <th>Education_Level</th>\n",
       "      <th>Marital_Status</th>\n",
       "      <th>Occupation</th>\n",
       "      <th>Location</th>\n",
       "      <th>Spending_Score</th>\n",
       "      <th>Credit_Score</th>\n",
       "      <th>Virus_Affected</th>\n",
       "    </tr>\n",
       "  </thead>\n",
       "  <tbody>\n",
       "    <tr>\n",
       "      <th>0</th>\n",
       "      <td>1</td>\n",
       "      <td>56</td>\n",
       "      <td>Male</td>\n",
       "      <td>65648</td>\n",
       "      <td>High School</td>\n",
       "      <td>Single</td>\n",
       "      <td>Manager</td>\n",
       "      <td>Rural</td>\n",
       "      <td>93</td>\n",
       "      <td>451</td>\n",
       "      <td>1</td>\n",
       "    </tr>\n",
       "    <tr>\n",
       "      <th>1</th>\n",
       "      <td>2</td>\n",
       "      <td>69</td>\n",
       "      <td>Male</td>\n",
       "      <td>123537</td>\n",
       "      <td>PhD</td>\n",
       "      <td>Single</td>\n",
       "      <td>Unemployed</td>\n",
       "      <td>Rural</td>\n",
       "      <td>47</td>\n",
       "      <td>630</td>\n",
       "      <td>0</td>\n",
       "    </tr>\n",
       "    <tr>\n",
       "      <th>2</th>\n",
       "      <td>3</td>\n",
       "      <td>46</td>\n",
       "      <td>Male</td>\n",
       "      <td>145991</td>\n",
       "      <td>PhD</td>\n",
       "      <td>Single</td>\n",
       "      <td>Student</td>\n",
       "      <td>Suburban</td>\n",
       "      <td>76</td>\n",
       "      <td>837</td>\n",
       "      <td>1</td>\n",
       "    </tr>\n",
       "    <tr>\n",
       "      <th>3</th>\n",
       "      <td>4</td>\n",
       "      <td>32</td>\n",
       "      <td>Female</td>\n",
       "      <td>29516</td>\n",
       "      <td>PhD</td>\n",
       "      <td>Married</td>\n",
       "      <td>Professional</td>\n",
       "      <td>Rural</td>\n",
       "      <td>30</td>\n",
       "      <td>682</td>\n",
       "      <td>0</td>\n",
       "    </tr>\n",
       "    <tr>\n",
       "      <th>4</th>\n",
       "      <td>5</td>\n",
       "      <td>60</td>\n",
       "      <td>Male</td>\n",
       "      <td>132863</td>\n",
       "      <td>PhD</td>\n",
       "      <td>Married</td>\n",
       "      <td>Unemployed</td>\n",
       "      <td>Rural</td>\n",
       "      <td>23</td>\n",
       "      <td>414</td>\n",
       "      <td>0</td>\n",
       "    </tr>\n",
       "  </tbody>\n",
       "</table>\n",
       "</div>"
      ],
      "text/plain": [
       "   ID  Age  Gender  Income Education_Level Marital_Status    Occupation  \\\n",
       "0   1   56    Male   65648     High School         Single       Manager   \n",
       "1   2   69    Male  123537             PhD         Single    Unemployed   \n",
       "2   3   46    Male  145991             PhD         Single       Student   \n",
       "3   4   32  Female   29516             PhD        Married  Professional   \n",
       "4   5   60    Male  132863             PhD        Married    Unemployed   \n",
       "\n",
       "   Location  Spending_Score  Credit_Score  Virus_Affected  \n",
       "0     Rural              93           451               1  \n",
       "1     Rural              47           630               0  \n",
       "2  Suburban              76           837               1  \n",
       "3     Rural              30           682               0  \n",
       "4     Rural              23           414               0  "
      ]
     },
     "execution_count": 3,
     "metadata": {},
     "output_type": "execute_result"
    }
   ],
   "source": [
    "df.head()"
   ]
  },
  {
   "cell_type": "code",
   "execution_count": 4,
   "id": "7324bfd5-5ef6-471a-a8c6-8f84d99f4862",
   "metadata": {},
   "outputs": [
    {
     "name": "stdout",
     "output_type": "stream",
     "text": [
      "<class 'pandas.core.frame.DataFrame'>\n",
      "RangeIndex: 1000 entries, 0 to 999\n",
      "Data columns (total 11 columns):\n",
      " #   Column           Non-Null Count  Dtype \n",
      "---  ------           --------------  ----- \n",
      " 0   ID               1000 non-null   int64 \n",
      " 1   Age              1000 non-null   int64 \n",
      " 2   Gender           1000 non-null   object\n",
      " 3   Income           1000 non-null   int64 \n",
      " 4   Education_Level  1000 non-null   object\n",
      " 5   Marital_Status   1000 non-null   object\n",
      " 6   Occupation       1000 non-null   object\n",
      " 7   Location         1000 non-null   object\n",
      " 8   Spending_Score   1000 non-null   int64 \n",
      " 9   Credit_Score     1000 non-null   int64 \n",
      " 10  Virus_Affected   1000 non-null   int64 \n",
      "dtypes: int64(6), object(5)\n",
      "memory usage: 86.1+ KB\n"
     ]
    }
   ],
   "source": [
    "df.info()"
   ]
  },
  {
   "cell_type": "markdown",
   "id": "113c57dc-cf03-47e3-ae74-5a8773073616",
   "metadata": {},
   "source": [
    "# Check for missing values"
   ]
  },
  {
   "cell_type": "code",
   "execution_count": 5,
   "id": "f6f0fa42-bb64-4438-bc92-db28f2b2822d",
   "metadata": {},
   "outputs": [
    {
     "data": {
      "text/plain": [
       "ID                 0\n",
       "Age                0\n",
       "Gender             0\n",
       "Income             0\n",
       "Education_Level    0\n",
       "Marital_Status     0\n",
       "Occupation         0\n",
       "Location           0\n",
       "Spending_Score     0\n",
       "Credit_Score       0\n",
       "Virus_Affected     0\n",
       "dtype: int64"
      ]
     },
     "execution_count": 5,
     "metadata": {},
     "output_type": "execute_result"
    }
   ],
   "source": [
    "df.isnull().sum()"
   ]
  },
  {
   "cell_type": "markdown",
   "id": "ae0456a6-550a-4580-aca6-0d1c201e3876",
   "metadata": {},
   "source": [
    "# Convert categorical variables to numerical using Label Encoding"
   ]
  },
  {
   "cell_type": "code",
   "execution_count": 6,
   "id": "7df38f57-e42e-4066-878a-dec516a95107",
   "metadata": {},
   "outputs": [],
   "source": [
    "label_encoders = {}\n",
    "for column in df.select_dtypes(include=['object']).columns:\n",
    "    le = LabelEncoder()\n",
    "    df[column] = le.fit_transform(df[column])\n",
    "    label_encoders[column] = le"
   ]
  },
  {
   "cell_type": "markdown",
   "id": "6d85da3a-a75b-4fe1-8f69-382217b26197",
   "metadata": {},
   "source": [
    "# After converting categorical features, fill missing values with the mean"
   ]
  },
  {
   "cell_type": "code",
   "execution_count": 7,
   "id": "11db88f9-c471-42fa-8e76-59ee8ef9b1d3",
   "metadata": {},
   "outputs": [],
   "source": [
    "df.fillna(df.mean(), inplace=True)"
   ]
  },
  {
   "cell_type": "markdown",
   "id": "8a5c3f23-a6c9-4da0-9990-fb32ca0d7870",
   "metadata": {},
   "source": [
    "# Confirm that there are no missing values left"
   ]
  },
  {
   "cell_type": "code",
   "execution_count": 8,
   "id": "bbf95ad5-1f1f-482a-a3cf-5486a52ba489",
   "metadata": {},
   "outputs": [
    {
     "data": {
      "text/plain": [
       "ID                 0\n",
       "Age                0\n",
       "Gender             0\n",
       "Income             0\n",
       "Education_Level    0\n",
       "Marital_Status     0\n",
       "Occupation         0\n",
       "Location           0\n",
       "Spending_Score     0\n",
       "Credit_Score       0\n",
       "Virus_Affected     0\n",
       "dtype: int64"
      ]
     },
     "execution_count": 8,
     "metadata": {},
     "output_type": "execute_result"
    }
   ],
   "source": [
    "df.isnull().sum()"
   ]
  },
  {
   "cell_type": "markdown",
   "id": "f8737a05-aff9-46b4-bf4b-8f8ee0d27d4a",
   "metadata": {},
   "source": [
    "# Exploratory Data Analysis (EDA)"
   ]
  },
  {
   "cell_type": "code",
   "execution_count": 9,
   "id": "aa2e4e05-39d3-40cd-8db0-c3be9eca8963",
   "metadata": {},
   "outputs": [
    {
     "data": {
      "text/html": [
       "<div>\n",
       "<style scoped>\n",
       "    .dataframe tbody tr th:only-of-type {\n",
       "        vertical-align: middle;\n",
       "    }\n",
       "\n",
       "    .dataframe tbody tr th {\n",
       "        vertical-align: top;\n",
       "    }\n",
       "\n",
       "    .dataframe thead th {\n",
       "        text-align: right;\n",
       "    }\n",
       "</style>\n",
       "<table border=\"1\" class=\"dataframe\">\n",
       "  <thead>\n",
       "    <tr style=\"text-align: right;\">\n",
       "      <th></th>\n",
       "      <th>ID</th>\n",
       "      <th>Age</th>\n",
       "      <th>Gender</th>\n",
       "      <th>Income</th>\n",
       "      <th>Education_Level</th>\n",
       "      <th>Marital_Status</th>\n",
       "      <th>Occupation</th>\n",
       "      <th>Location</th>\n",
       "      <th>Spending_Score</th>\n",
       "      <th>Credit_Score</th>\n",
       "      <th>Virus_Affected</th>\n",
       "    </tr>\n",
       "  </thead>\n",
       "  <tbody>\n",
       "    <tr>\n",
       "      <th>count</th>\n",
       "      <td>1000.000000</td>\n",
       "      <td>1000.00000</td>\n",
       "      <td>1000.000000</td>\n",
       "      <td>1000.000000</td>\n",
       "      <td>1000.000000</td>\n",
       "      <td>1000.000000</td>\n",
       "      <td>1000.000000</td>\n",
       "      <td>1000.000000</td>\n",
       "      <td>1000.000000</td>\n",
       "      <td>1000.000000</td>\n",
       "      <td>1000.000000</td>\n",
       "    </tr>\n",
       "    <tr>\n",
       "      <th>mean</th>\n",
       "      <td>500.500000</td>\n",
       "      <td>43.81900</td>\n",
       "      <td>0.524000</td>\n",
       "      <td>87130.677000</td>\n",
       "      <td>1.508000</td>\n",
       "      <td>1.019000</td>\n",
       "      <td>1.480000</td>\n",
       "      <td>0.956000</td>\n",
       "      <td>49.711000</td>\n",
       "      <td>573.037000</td>\n",
       "      <td>0.644000</td>\n",
       "    </tr>\n",
       "    <tr>\n",
       "      <th>std</th>\n",
       "      <td>288.819436</td>\n",
       "      <td>14.99103</td>\n",
       "      <td>0.499674</td>\n",
       "      <td>38333.193443</td>\n",
       "      <td>1.142472</td>\n",
       "      <td>0.829051</td>\n",
       "      <td>1.104001</td>\n",
       "      <td>0.815309</td>\n",
       "      <td>28.465484</td>\n",
       "      <td>159.045582</td>\n",
       "      <td>0.479055</td>\n",
       "    </tr>\n",
       "    <tr>\n",
       "      <th>min</th>\n",
       "      <td>1.000000</td>\n",
       "      <td>18.00000</td>\n",
       "      <td>0.000000</td>\n",
       "      <td>20207.000000</td>\n",
       "      <td>0.000000</td>\n",
       "      <td>0.000000</td>\n",
       "      <td>0.000000</td>\n",
       "      <td>0.000000</td>\n",
       "      <td>1.000000</td>\n",
       "      <td>300.000000</td>\n",
       "      <td>0.000000</td>\n",
       "    </tr>\n",
       "    <tr>\n",
       "      <th>25%</th>\n",
       "      <td>250.750000</td>\n",
       "      <td>31.00000</td>\n",
       "      <td>0.000000</td>\n",
       "      <td>52723.250000</td>\n",
       "      <td>0.000000</td>\n",
       "      <td>0.000000</td>\n",
       "      <td>0.000000</td>\n",
       "      <td>0.000000</td>\n",
       "      <td>25.000000</td>\n",
       "      <td>431.000000</td>\n",
       "      <td>0.000000</td>\n",
       "    </tr>\n",
       "    <tr>\n",
       "      <th>50%</th>\n",
       "      <td>500.500000</td>\n",
       "      <td>44.00000</td>\n",
       "      <td>1.000000</td>\n",
       "      <td>88482.000000</td>\n",
       "      <td>1.000000</td>\n",
       "      <td>1.000000</td>\n",
       "      <td>2.000000</td>\n",
       "      <td>1.000000</td>\n",
       "      <td>48.000000</td>\n",
       "      <td>568.500000</td>\n",
       "      <td>1.000000</td>\n",
       "    </tr>\n",
       "    <tr>\n",
       "      <th>75%</th>\n",
       "      <td>750.250000</td>\n",
       "      <td>56.00000</td>\n",
       "      <td>1.000000</td>\n",
       "      <td>121396.750000</td>\n",
       "      <td>3.000000</td>\n",
       "      <td>2.000000</td>\n",
       "      <td>2.000000</td>\n",
       "      <td>2.000000</td>\n",
       "      <td>75.000000</td>\n",
       "      <td>714.000000</td>\n",
       "      <td>1.000000</td>\n",
       "    </tr>\n",
       "    <tr>\n",
       "      <th>max</th>\n",
       "      <td>1000.000000</td>\n",
       "      <td>69.00000</td>\n",
       "      <td>1.000000</td>\n",
       "      <td>149839.000000</td>\n",
       "      <td>3.000000</td>\n",
       "      <td>2.000000</td>\n",
       "      <td>3.000000</td>\n",
       "      <td>2.000000</td>\n",
       "      <td>99.000000</td>\n",
       "      <td>849.000000</td>\n",
       "      <td>1.000000</td>\n",
       "    </tr>\n",
       "  </tbody>\n",
       "</table>\n",
       "</div>"
      ],
      "text/plain": [
       "                ID         Age       Gender         Income  Education_Level  \\\n",
       "count  1000.000000  1000.00000  1000.000000    1000.000000      1000.000000   \n",
       "mean    500.500000    43.81900     0.524000   87130.677000         1.508000   \n",
       "std     288.819436    14.99103     0.499674   38333.193443         1.142472   \n",
       "min       1.000000    18.00000     0.000000   20207.000000         0.000000   \n",
       "25%     250.750000    31.00000     0.000000   52723.250000         0.000000   \n",
       "50%     500.500000    44.00000     1.000000   88482.000000         1.000000   \n",
       "75%     750.250000    56.00000     1.000000  121396.750000         3.000000   \n",
       "max    1000.000000    69.00000     1.000000  149839.000000         3.000000   \n",
       "\n",
       "       Marital_Status   Occupation     Location  Spending_Score  Credit_Score  \\\n",
       "count     1000.000000  1000.000000  1000.000000     1000.000000   1000.000000   \n",
       "mean         1.019000     1.480000     0.956000       49.711000    573.037000   \n",
       "std          0.829051     1.104001     0.815309       28.465484    159.045582   \n",
       "min          0.000000     0.000000     0.000000        1.000000    300.000000   \n",
       "25%          0.000000     0.000000     0.000000       25.000000    431.000000   \n",
       "50%          1.000000     2.000000     1.000000       48.000000    568.500000   \n",
       "75%          2.000000     2.000000     2.000000       75.000000    714.000000   \n",
       "max          2.000000     3.000000     2.000000       99.000000    849.000000   \n",
       "\n",
       "       Virus_Affected  \n",
       "count     1000.000000  \n",
       "mean         0.644000  \n",
       "std          0.479055  \n",
       "min          0.000000  \n",
       "25%          0.000000  \n",
       "50%          1.000000  \n",
       "75%          1.000000  \n",
       "max          1.000000  "
      ]
     },
     "execution_count": 9,
     "metadata": {},
     "output_type": "execute_result"
    }
   ],
   "source": [
    "df.describe()"
   ]
  },
  {
   "cell_type": "markdown",
   "id": "d8ed4bc5-161b-4c04-8b14-9767caf38685",
   "metadata": {},
   "source": [
    "# Visualizations"
   ]
  },
  {
   "cell_type": "code",
   "execution_count": 10,
   "id": "e62c8a4a-b04a-43ca-9309-a1a0d24b858a",
   "metadata": {},
   "outputs": [
    {
     "data": {
      "image/png": "[encoded data removed]",
      "text/plain": [
       "<Figure size 1000x600 with 1 Axes>"
      ]
     },
     "metadata": {},
     "output_type": "display_data"
    }
   ],
   "source": [
    "plt.figure(figsize=(10, 6))\n",
    "sns.countplot(x='Virus_Affected', data=df)\n",
    "plt.title('Virus Affected Distribution')\n",
    "plt.show()"
   ]
  },
  {
   "cell_type": "markdown",
   "id": "e048d526-97aa-420d-86ba-193682383265",
   "metadata": {},
   "source": [
    "# Correlation heatmap"
   ]
  },
  {
   "cell_type": "code",
   "execution_count": 11,
   "id": "e02ccd8a-d0e0-44b5-a5fa-a6909a410891",
   "metadata": {},
   "outputs": [
    {
     "data": {
      "image/png": "[encoded data removed]",
      "text/plain": [
       "<Figure size 1200x800 with 2 Axes>"
      ]
     },
     "metadata": {},
     "output_type": "display_data"
    }
   ],
   "source": [
    "plt.figure(figsize=(12, 8))\n",
    "sns.heatmap(df.corr(), annot=True, fmt='.2f', cmap='coolwarm')\n",
    "plt.title('Correlation Heatmap')\n",
    "plt.show()"
   ]
  },
  {
   "cell_type": "markdown",
   "id": "1585738f-cb11-449c-82f5-864b19b9ecb3",
   "metadata": {},
   "source": [
    "# Data Preprocessing"
   ]
  },
  {
   "cell_type": "code",
   "execution_count": 12,
   "id": "d52cf90e-7c43-4dd0-9ecf-8bfd74c9a798",
   "metadata": {},
   "outputs": [],
   "source": [
    "# Feature selection (assuming 'target' is the target variable)\n",
    "X = df.drop(columns=['Virus_Affected'])\n",
    "y = df['Virus_Affected']"
   ]
  },
  {
   "cell_type": "markdown",
   "id": "418d0e35-e1ca-4038-a227-413f4613b03d",
   "metadata": {},
   "source": [
    "# Split the data into training and testing sets"
   ]
  },
  {
   "cell_type": "code",
   "execution_count": 13,
   "id": "fab630cf-6de0-4eb0-9cb1-a8932e4c3a0c",
   "metadata": {},
   "outputs": [],
   "source": [
    "X_train, X_test, y_train, y_test = train_test_split(X, y, test_size=0.2, random_state=42)"
   ]
  },
  {
   "cell_type": "markdown",
   "id": "726ed670-59a9-4fd8-b209-f5134ed67af6",
   "metadata": {},
   "source": [
    "# Standardize the features"
   ]
  },
  {
   "cell_type": "code",
   "execution_count": 14,
   "id": "ae6a86e5-b79f-4804-b109-b2d44ab864a8",
   "metadata": {},
   "outputs": [],
   "source": [
    "scaler = StandardScaler()\n",
    "X_train = scaler.fit_transform(X_train)\n",
    "X_test = scaler.transform(X_test)"
   ]
  },
  {
   "cell_type": "markdown",
   "id": "4247302f-8743-4119-a0b7-8f3c1ff71639",
   "metadata": {},
   "source": [
    "# Model Training and Evaluation"
   ]
  },
  {
   "cell_type": "code",
   "execution_count": 15,
   "id": "9d9b3a88-722b-48b3-bc49-9141fb74f689",
   "metadata": {},
   "outputs": [],
   "source": [
    "models = {\n",
    "    'Logistic Regression': LogisticRegression(),\n",
    "    'Random Forest': RandomForestClassifier(),\n",
    "    'Support Vector Machine': SVC(kernel='linear'),\n",
    "    'K-Nearest Neighbors': KNeighborsClassifier()\n",
    "}"
   ]
  },
  {
   "cell_type": "markdown",
   "id": "03cacc41-d685-46fa-90cc-394ff57ce97e",
   "metadata": {},
   "source": [
    "# Training, predicting, and evaluating each model"
   ]
  },
  {
   "cell_type": "code",
   "execution_count": 16,
   "id": "847ef373-4245-494a-8249-0cca9d57fc78",
   "metadata": {},
   "outputs": [
    {
     "name": "stdout",
     "output_type": "stream",
     "text": [
      "\n",
      "Logistic Regression Accuracy: 0.81\n",
      "Logistic Regression Confusion Matrix:\n",
      "[[ 51  20]\n",
      " [ 17 112]]\n",
      "Logistic Regression Classification Report:\n",
      "              precision    recall  f1-score   support\n",
      "\n",
      "           0       0.75      0.72      0.73        71\n",
      "           1       0.85      0.87      0.86       129\n",
      "\n",
      "    accuracy                           0.81       200\n",
      "   macro avg       0.80      0.79      0.80       200\n",
      "weighted avg       0.81      0.81      0.81       200\n",
      "\n",
      "\n",
      "Random Forest Accuracy: 0.99\n",
      "Random Forest Confusion Matrix:\n",
      "[[ 71   0]\n",
      " [  2 127]]\n",
      "Random Forest Classification Report:\n",
      "              precision    recall  f1-score   support\n",
      "\n",
      "           0       0.97      1.00      0.99        71\n",
      "           1       1.00      0.98      0.99       129\n",
      "\n",
      "    accuracy                           0.99       200\n",
      "   macro avg       0.99      0.99      0.99       200\n",
      "weighted avg       0.99      0.99      0.99       200\n",
      "\n",
      "\n",
      "Support Vector Machine Accuracy: 0.82\n",
      "Support Vector Machine Confusion Matrix:\n",
      "[[ 52  19]\n",
      " [ 17 112]]\n",
      "Support Vector Machine Classification Report:\n",
      "              precision    recall  f1-score   support\n",
      "\n",
      "           0       0.75      0.73      0.74        71\n",
      "           1       0.85      0.87      0.86       129\n",
      "\n",
      "    accuracy                           0.82       200\n",
      "   macro avg       0.80      0.80      0.80       200\n",
      "weighted avg       0.82      0.82      0.82       200\n",
      "\n",
      "\n",
      "K-Nearest Neighbors Accuracy: 0.82\n",
      "K-Nearest Neighbors Confusion Matrix:\n",
      "[[ 53  18]\n",
      " [ 17 112]]\n",
      "K-Nearest Neighbors Classification Report:\n",
      "              precision    recall  f1-score   support\n",
      "\n",
      "           0       0.76      0.75      0.75        71\n",
      "           1       0.86      0.87      0.86       129\n",
      "\n",
      "    accuracy                           0.82       200\n",
      "   macro avg       0.81      0.81      0.81       200\n",
      "weighted avg       0.82      0.82      0.82       200\n",
      "\n"
     ]
    }
   ],
   "source": [
    "for name, model in models.items():\n",
    "    model.fit(X_train, y_train)\n",
    "    y_pred = model.predict(X_test)\n",
    "    accuracy = accuracy_score(y_test, y_pred)\n",
    "    print(f'\\n{name} Accuracy: {accuracy:.2f}')\n",
    "    print(f'{name} Confusion Matrix:')\n",
    "    print(confusion_matrix(y_test, y_pred))\n",
    "    print(f'{name} Classification Report:')\n",
    "    print(classification_report(y_test, y_pred))"
   ]
  },
  {
   "cell_type": "code",
   "execution_count": 17,
   "id": "7ca7e753-192c-4946-9f4e-65979c402e96",
   "metadata": {},
   "outputs": [
    {
     "name": "stdout",
     "output_type": "stream",
     "text": [
      "K-Nearest Neighbors does not provide feature importance directly.\n"
     ]
    }
   ],
   "source": [
    "    # Feature Importance or Coefficients\n",
    "    if name == 'Random Forest':\n",
    "        feature_importances = model.feature_importances_\n",
    "        feature_importances = pd.Series(feature_importances, index=X.columns)\n",
    "        feature_importances = feature_importances.sort_values(ascending=False)\n",
    "        plt.figure(figsize=(10, 6))\n",
    "        sns.barplot(x=feature_importances, y=feature_importances.index)\n",
    "        plt.title(f'Feature Importance - {name}')\n",
    "        plt.show()\n",
    "\n",
    "    elif name == 'Logistic Regression':\n",
    "        feature_importances = model.coef_[0]\n",
    "        feature_importances = pd.Series(feature_importances, index=X.columns)\n",
    "        feature_importances = feature_importances.sort_values(ascending=False)\n",
    "        plt.figure(figsize=(10, 6))\n",
    "        sns.barplot(x=feature_importances, y=feature_importances.index)\n",
    "        plt.title(f'Feature Importance (Coefficients) - {name}')\n",
    "        plt.show()\n",
    "\n",
    "    elif name == 'Support Vector Machine':\n",
    "        feature_importances = model.coef_[0]\n",
    "        feature_importances = pd.Series(feature_importances, index=X.columns)\n",
    "        feature_importances = feature_importances.sort_values(ascending=False)\n",
    "        plt.figure(figsize=(10, 6))\n",
    "        sns.barplot(x=feature_importances, y=feature_importances.index)\n",
    "        plt.title(f'Feature Importance (Coefficients) - {name}')\n",
    "        plt.show()\n",
    "\n",
    "    elif name == 'K-Nearest Neighbors':\n",
    "        print(f'{name} does not provide feature importance directly.')"
   ]
  },
  {
   "cell_type": "markdown",
   "id": "2ce6a97f-0fb8-409e-bb1c-830704b93e66",
   "metadata": {},
   "source": [
    "# Extract feature importance and coefficients"
   ]
  },
  {
   "cell_type": "code",
   "execution_count": 18,
   "id": "be45d69b-321d-4e9d-950c-6946ccea455e",
   "metadata": {},
   "outputs": [],
   "source": [
    "feature_importance = {}\n",
    "\n",
    "for name, model in models.items():\n",
    "    model.fit(X_train, y_train)\n",
    "    if name == 'Random Forest':\n",
    "        importances = model.feature_importances_\n",
    "        feature_importance[name] = pd.Series(importances, index=X.columns).sort_values(ascending=False)\n",
    "    elif name in ['Logistic Regression', 'Support Vector Machine']:\n",
    "        coef = model.coef_[0]\n",
    "        feature_importance[name] = pd.Series(coef, index=X.columns).sort_values(ascending=False)"
   ]
  },
  {
   "cell_type": "markdown",
   "id": "50153d85-bd75-43ba-826b-e4b64d8f8fd1",
   "metadata": {},
   "source": [
    "# Display feature importance or coefficients"
   ]
  },
  {
   "cell_type": "code",
   "execution_count": 19,
   "id": "410b9ab0-88ba-4c5c-b9ae-2da2efcabf2f",
   "metadata": {},
   "outputs": [
    {
     "name": "stdout",
     "output_type": "stream",
     "text": [
      "\n",
      "Logistic Regression Feature Importance / Coefficients:\n",
      "Income             1.718453\n",
      "Spending_Score     0.830295\n",
      "Credit_Score       0.326622\n",
      "Location           0.085061\n",
      "Education_Level    0.070834\n",
      "Gender             0.060771\n",
      "ID                 0.031407\n",
      "Marital_Status    -0.101491\n",
      "Occupation        -0.209453\n",
      "Age               -1.056008\n",
      "dtype: float64\n",
      "\n",
      "Random Forest Feature Importance / Coefficients:\n",
      "Income             0.449353\n",
      "Age                0.244298\n",
      "Spending_Score     0.164012\n",
      "Credit_Score       0.049161\n",
      "ID                 0.032764\n",
      "Occupation         0.031699\n",
      "Marital_Status     0.008803\n",
      "Location           0.008736\n",
      "Education_Level    0.008033\n",
      "Gender             0.003141\n",
      "dtype: float64\n",
      "\n",
      "Support Vector Machine Feature Importance / Coefficients:\n",
      "Income             1.370927\n",
      "Spending_Score     0.604595\n",
      "Credit_Score       0.323274\n",
      "Location           0.067957\n",
      "ID                 0.056155\n",
      "Gender             0.045162\n",
      "Education_Level   -0.005438\n",
      "Marital_Status    -0.058264\n",
      "Occupation        -0.183220\n",
      "Age               -0.761546\n",
      "dtype: float64\n"
     ]
    }
   ],
   "source": [
    "for name, importance in feature_importance.items():\n",
    "    print(f'\\n{name} Feature Importance / Coefficients:')\n",
    "    print(importance)"
   ]
  },
  {
   "cell_type": "code",
   "execution_count": 20,
   "id": "cf16fd43-5b20-4211-aa73-ebe2fe753478",
   "metadata": {},
   "outputs": [
    {
     "name": "stdout",
     "output_type": "stream",
     "text": [
      "\n",
      "Top 2 Features for each model:\n",
      "{'Logistic Regression': ['Income', 'Spending_Score'], 'Random Forest': ['Income', 'Age'], 'Support Vector Machine': ['Income', 'Spending_Score']}\n"
     ]
    }
   ],
   "source": [
    "# Identify the top 2 features from each model\n",
    "top_features = {name: importance.index[:2].tolist() for name, importance in feature_importance.items()}\n",
    "\n",
    "print(\"\\nTop 2 Features for each model:\")\n",
    "print(top_features)"
   ]
  },
  {
   "cell_type": "markdown",
   "id": "62899328-5b31-4d02-ba82-7b0ccbffe13d",
   "metadata": {},
   "source": [
    "# Cross-validation for model comparison"
   ]
  },
  {
   "cell_type": "code",
   "execution_count": 21,
   "id": "ca77a7a6-5152-4727-baa1-afbf19a58c33",
   "metadata": {},
   "outputs": [
    {
     "name": "stdout",
     "output_type": "stream",
     "text": [
      "\n",
      "Logistic Regression Cross-Validation Accuracy: 0.81 (+/- 0.04)\n",
      "\n",
      "Random Forest Cross-Validation Accuracy: 0.98 (+/- 0.01)\n",
      "\n",
      "Support Vector Machine Cross-Validation Accuracy: 0.80 (+/- 0.04)\n",
      "\n",
      "K-Nearest Neighbors Cross-Validation Accuracy: 0.83 (+/- 0.01)\n"
     ]
    }
   ],
   "source": [
    "for name, model in models.items():\n",
    "    scores = cross_val_score(model, X, y, cv=5)\n",
    "    print(f'\\n{name} Cross-Validation Accuracy: {np.mean(scores):.2f} (+/- {np.std(scores):.2f})')"
   ]
  }
 ],
 "metadata": {
  "kernelspec": {
   "display_name": "Python 3 (ipykernel)",
   "language": "python",
   "name": "python3"
  },
  "language_info": {
   "codemirror_mode": {
    "name": "ipython",
    "version": 3
   },
   "file_extension": ".py",
   "mimetype": "text/x-python",
   "name": "python",
   "nbconvert_exporter": "python",
   "pygments_lexer": "ipython3",
   "version": "3.12.5"
  },
  "widgets": {
   "application/vnd.jupyter.widget-state+json": {
    "state": {},
    "version_major": 2,
    "version_minor": 0
   }
  }
 },
 "nbformat": 4,
 "nbformat_minor": 5
}
